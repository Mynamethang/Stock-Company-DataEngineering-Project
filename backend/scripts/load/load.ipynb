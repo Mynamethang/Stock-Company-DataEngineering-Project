{
 "cells": [
  {
   "cell_type": "code",
   "execution_count": 2,
   "metadata": {},
   "outputs": [],
   "source": [
    "import pandas as pd\n",
    "import psycopg2\n",
    "import os\n",
    "import glob"
   ]
  },
  {
   "cell_type": "code",
   "execution_count": 3,
   "metadata": {},
   "outputs": [],
   "source": [
    "def get_latest_file(directory):\n",
    "    \"\"\"\n",
    "    Get latest file from directory.\n",
    "    \n",
    "    :param dicrectory: The dicrectory to save data.\n",
    "    :return: List for data dictionary.\n",
    "    \"\"\"\n",
    "\n",
    "    # Get a list of all files in the directory\n",
    "    files = glob.glob(os.path.join(directory, \"*.json\"))\n",
    "    \n",
    "    # Check if there are any files in the directory\n",
    "    if not files:\n",
    "        print(f\"The directory {directory} is empty or contains no files.\")\n",
    "        return None\n",
    "    \n",
    "    # Get the latest file based on modification time\n",
    "    latest_file = max(files, key=os.path.getmtime)\n",
    "    return latest_file"
   ]
  },
  {
   "cell_type": "code",
   "execution_count": 4,
   "metadata": {},
   "outputs": [],
   "source": [
    "path_companies = '/home/ngocthang/Documents/Code/Stock-Company-Analysis/backend/data/transformed/transformed_to_database_companies'\n",
    "path_exchanges = '/home/ngocthang/Documents/Code/Stock-Company-Analysis/backend/data/transformed/transformed_to_database_exchanges'\n",
    "path_industries = '/home/ngocthang/Documents/Code/Stock-Company-Analysis/backend/data/transformed/transformed_to_database_industries'\n",
    "path_regions = '/home/ngocthang/Documents/Code/Stock-Company-Analysis/backend/data/transformed/transformed_to_database_regions'\n",
    "path_sic_industries = '/home/ngocthang/Documents/Code/Stock-Company-Analysis/backend/data/transformed/transformed_to_database_sic_industries'"
   ]
  },
  {
   "cell_type": "code",
   "execution_count": 5,
   "metadata": {},
   "outputs": [
    {
     "name": "stdout",
     "output_type": "stream",
     "text": [
      "/home/ngocthang/Documents/Code/Stock-Company-Analysis/backend/data/transformed/transformed_to_database_companies/transformed_companies_2024_06_19.json\n"
     ]
    }
   ],
   "source": [
    "file = get_latest_file(path_companies)\n",
    "print(file)"
   ]
  },
  {
   "cell_type": "code",
   "execution_count": 6,
   "metadata": {},
   "outputs": [
    {
     "data": {
      "text/html": [
       "<div>\n",
       "<style scoped>\n",
       "    .dataframe tbody tr th:only-of-type {\n",
       "        vertical-align: middle;\n",
       "    }\n",
       "\n",
       "    .dataframe tbody tr th {\n",
       "        vertical-align: top;\n",
       "    }\n",
       "\n",
       "    .dataframe thead th {\n",
       "        text-align: right;\n",
       "    }\n",
       "</style>\n",
       "<table border=\"1\" class=\"dataframe\">\n",
       "  <thead>\n",
       "    <tr style=\"text-align: right;\">\n",
       "      <th></th>\n",
       "      <th>company_exchange</th>\n",
       "      <th>company_industry</th>\n",
       "      <th>company_sector</th>\n",
       "      <th>company_sic_id</th>\n",
       "      <th>company_name</th>\n",
       "      <th>company_ticket</th>\n",
       "      <th>company_is_delisted</th>\n",
       "      <th>company_category</th>\n",
       "      <th>company_currency</th>\n",
       "      <th>company_location</th>\n",
       "    </tr>\n",
       "  </thead>\n",
       "  <tbody>\n",
       "    <tr>\n",
       "      <th>0</th>\n",
       "      <td>NASDAQ</td>\n",
       "      <td>Banks - Regional</td>\n",
       "      <td>Financial Services</td>\n",
       "      <td>6022</td>\n",
       "      <td>ADMIRALTY BANCORP INC</td>\n",
       "      <td>AAAB</td>\n",
       "      <td>True</td>\n",
       "      <td>Domestic Common Stock</td>\n",
       "      <td>USD</td>\n",
       "      <td>Florida; U.S.A</td>\n",
       "    </tr>\n",
       "    <tr>\n",
       "      <th>1</th>\n",
       "      <td>NASDAQ</td>\n",
       "      <td>Banks - Regional</td>\n",
       "      <td>Financial Services</td>\n",
       "      <td>6035</td>\n",
       "      <td>ACCESS ANYTIME BANCORP INC</td>\n",
       "      <td>AABC</td>\n",
       "      <td>True</td>\n",
       "      <td>Domestic Common Stock</td>\n",
       "      <td>USD</td>\n",
       "      <td>New Mexico; U.S.A</td>\n",
       "    </tr>\n",
       "    <tr>\n",
       "      <th>2</th>\n",
       "      <td>NASDAQ</td>\n",
       "      <td>Asset Management</td>\n",
       "      <td>Financial Services</td>\n",
       "      <td>6153</td>\n",
       "      <td>ASSET ACCEPTANCE CAPITAL CORP</td>\n",
       "      <td>AACC</td>\n",
       "      <td>True</td>\n",
       "      <td>Domestic Common Stock</td>\n",
       "      <td>USD</td>\n",
       "      <td>Michigan; U.S.A</td>\n",
       "    </tr>\n",
       "    <tr>\n",
       "      <th>3</th>\n",
       "      <td>NASDAQ</td>\n",
       "      <td>Credit Services</td>\n",
       "      <td>Financial Services</td>\n",
       "      <td>6099</td>\n",
       "      <td>ACE CASH EXPRESS INC</td>\n",
       "      <td>AACE</td>\n",
       "      <td>True</td>\n",
       "      <td>Domestic Common Stock</td>\n",
       "      <td>USD</td>\n",
       "      <td>Texas; U.S.A</td>\n",
       "    </tr>\n",
       "    <tr>\n",
       "      <th>4</th>\n",
       "      <td>NASDAQ</td>\n",
       "      <td>Shell Companies</td>\n",
       "      <td>Industrials</td>\n",
       "      <td>6770</td>\n",
       "      <td>ARMADA ACQUISITION CORP I</td>\n",
       "      <td>AACI</td>\n",
       "      <td>False</td>\n",
       "      <td>Domestic Common Stock Primary Class</td>\n",
       "      <td>USD</td>\n",
       "      <td>Pennsylvania; U.S.A</td>\n",
       "    </tr>\n",
       "  </tbody>\n",
       "</table>\n",
       "</div>"
      ],
      "text/plain": [
       "  company_exchange  company_industry      company_sector  company_sic_id  \\\n",
       "0           NASDAQ  Banks - Regional  Financial Services            6022   \n",
       "1           NASDAQ  Banks - Regional  Financial Services            6035   \n",
       "2           NASDAQ  Asset Management  Financial Services            6153   \n",
       "3           NASDAQ   Credit Services  Financial Services            6099   \n",
       "4           NASDAQ   Shell Companies         Industrials            6770   \n",
       "\n",
       "                    company_name company_ticket  company_is_delisted  \\\n",
       "0          ADMIRALTY BANCORP INC           AAAB                 True   \n",
       "1     ACCESS ANYTIME BANCORP INC           AABC                 True   \n",
       "2  ASSET ACCEPTANCE CAPITAL CORP           AACC                 True   \n",
       "3           ACE CASH EXPRESS INC           AACE                 True   \n",
       "4      ARMADA ACQUISITION CORP I           AACI                False   \n",
       "\n",
       "                      company_category company_currency     company_location  \n",
       "0                Domestic Common Stock              USD       Florida; U.S.A  \n",
       "1                Domestic Common Stock              USD    New Mexico; U.S.A  \n",
       "2                Domestic Common Stock              USD      Michigan; U.S.A  \n",
       "3                Domestic Common Stock              USD         Texas; U.S.A  \n",
       "4  Domestic Common Stock Primary Class              USD  Pennsylvania; U.S.A  "
      ]
     },
     "execution_count": 6,
     "metadata": {},
     "output_type": "execute_result"
    }
   ],
   "source": [
    "df = pd.read_json(file, lines=True)\n",
    "df.head()"
   ]
  },
  {
   "cell_type": "code",
   "execution_count": 12,
   "metadata": {},
   "outputs": [
    {
     "name": "stdout",
     "output_type": "stream",
     "text": [
      "['company_exchange', 'company_industry', 'company_sector', 'company_sic_id', 'company_name', 'company_ticket', 'company_is_delisted', 'company_category', 'company_currency', 'company_location']\n"
     ]
    }
   ],
   "source": [
    "columns = list(df.columns)\n",
    "print(columns)"
   ]
  },
  {
   "cell_type": "code",
   "execution_count": 13,
   "metadata": {},
   "outputs": [],
   "source": [
    "placeholders = ', '.join(['%s'] * len(columns))\n",
    "columns_str = ', '.join(columns)"
   ]
  },
  {
   "cell_type": "code",
   "execution_count": 14,
   "metadata": {},
   "outputs": [
    {
     "name": "stdout",
     "output_type": "stream",
     "text": [
      "%s, %s, %s, %s, %s, %s, %s, %s, %s, %s\n"
     ]
    }
   ],
   "source": [
    "print(placeholders)"
   ]
  },
  {
   "cell_type": "code",
   "execution_count": 15,
   "metadata": {},
   "outputs": [
    {
     "name": "stdout",
     "output_type": "stream",
     "text": [
      "company_exchange, company_industry, company_sector, company_sic_id, company_name, company_ticket, company_is_delisted, company_category, company_currency, company_location\n"
     ]
    }
   ],
   "source": [
    "print(columns_str)"
   ]
  },
  {
   "cell_type": "code",
   "execution_count": 45,
   "metadata": {},
   "outputs": [],
   "source": [
    "\n",
    "# Read the SQL file\n",
    "path = \"/home/ngocthang/Documents/Code/Stock-Company-Analysis/backend/scripts/load/sql-scripts/upsert.sql\"\n",
    "with open(path, 'r') as file:\n",
    "    sql_script = file.read()"
   ]
  },
  {
   "cell_type": "code",
   "execution_count": 40,
   "metadata": {},
   "outputs": [
    {
     "name": "stdout",
     "output_type": "stream",
     "text": [
      "S\n"
     ]
    }
   ],
   "source": [
    "print(sql_script[3])"
   ]
  },
  {
   "cell_type": "code",
   "execution_count": 41,
   "metadata": {},
   "outputs": [],
   "source": [
    "b = sql_script.split(';')"
   ]
  },
  {
   "cell_type": "code",
   "execution_count": 46,
   "metadata": {},
   "outputs": [
    {
     "name": "stdout",
     "output_type": "stream",
     "text": [
      "\n",
      "INSERT INTO regions(region_name, region_local_open, region_local_close)\n",
      "    SELECT \n",
      "        * \n",
      "    FROM temp_regions\n",
      "ON CONFLICT (region_name) DO NOTHING\n",
      "\n",
      "\n",
      "INSERT INTO industries(industry_name, industry_sector)\n",
      "    SELECT\n",
      "        *\n",
      "    FROM temp_industries\n",
      "ON CONFLICT (industry_name, industry_sector) DO NOTHING\n",
      "\n",
      "\n",
      "INSERT INTO sic_industries(sic_id, sic_industry, sic_sector)\n",
      "    SELECT\n",
      "        * \n",
      "    FROM temp_sic_industries\n",
      "ON CONFLICT (sic_industry, sic_sector) DO NOTHING\n",
      "\n",
      "\n",
      "\n",
      "\n",
      "INSERT INTO exchanges(exchange_region_id, exchange_name)\n",
      "    SELECT\n",
      "        r.region_id,\n",
      "        e.exchange_name\n",
      "    FROM temp_exchanges e\n",
      "    JOIN regions r ON r.region_name = e.region\n",
      "ON CONFLICT (exchange_name) DO NOTHING\n",
      "\n",
      "\n",
      "\n",
      "INSERT INTO companies(company_id, company_exchange_id, company_industry_id, company_sic_id, company_name, company_ticket, company_is_delisted, company_category, company_currency, company_location)\n",
      "    SELECT \n",
      "        c.company_id,\n",
      "        e.exchange_id as company_exchange_id,\n",
      "        i.industry_id as company_industry_id,\n",
      "        c.company_sic_id,\n",
      "        c.company_name,\n",
      "        c.company_ticket,\n",
      "        c.company_is_delisted,\n",
      "        c.company_category,\n",
      "        c.company_currency,\n",
      "        c.company_location\n",
      "    FROM temp_companies c\n",
      "    JOIN exchanges e ON e.exchange_name = c.company_exchange\n",
      "    JOIN industries i ON i.industry_name = c.company_industry AND i.industry_sector = c.company_sector\n",
      "ON CONFLICT (company_ticket, company_is_delisted) DO NOTHING\n"
     ]
    }
   ],
   "source": [
    "for statement in sql_script.split(';'):\n",
    "    print(statement)"
   ]
  }
 ],
 "metadata": {
  "kernelspec": {
   "display_name": "Python 3",
   "language": "python",
   "name": "python3"
  },
  "language_info": {
   "codemirror_mode": {
    "name": "ipython",
    "version": 3
   },
   "file_extension": ".py",
   "mimetype": "text/x-python",
   "name": "python",
   "nbconvert_exporter": "python",
   "pygments_lexer": "ipython3",
   "version": "3.10.12"
  }
 },
 "nbformat": 4,
 "nbformat_minor": 2
}
